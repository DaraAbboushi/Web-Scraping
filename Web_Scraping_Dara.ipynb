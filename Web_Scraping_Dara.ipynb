{
 "cells": [
  {
   "cell_type": "markdown",
   "id": "224528d1-1bb9-418c-a58d-776357bd86cd",
   "metadata": {},
   "source": [
    "# Web scraping with Alex:"
   ]
  },
  {
   "cell_type": "markdown",
   "id": "84d64a47-e191-4b6a-93d4-97ddd9bedfe3",
   "metadata": {},
   "source": [
    "Importing the libraries "
   ]
  },
  {
   "cell_type": "code",
   "execution_count": 125,
   "id": "20a4d3c5-d083-4745-8162-ca7fd3ead505",
   "metadata": {},
   "outputs": [],
   "source": [
    "import requests\n",
    "from  bs4 import BeautifulSoup "
   ]
  },
  {
   "cell_type": "code",
   "execution_count": 60,
   "id": "e3aac8f1-aab0-428c-bb1d-fd0f1923bbb8",
   "metadata": {},
   "outputs": [],
   "source": [
    "request = requests.get('https://en.wikipedia.org/wiki/List_of_largest_companies_in_the_United_States_by_revenue')"
   ]
  },
  {
   "cell_type": "code",
   "execution_count": 61,
   "id": "d563e395-391c-447a-b885-970c7a9fb820",
   "metadata": {},
   "outputs": [],
   "source": [
    "doc = BeautifulSoup(request.text, 'html.parser')"
   ]
  },
  {
   "cell_type": "code",
   "execution_count": null,
   "id": "b98bb819-9d94-499f-b842-8fcd19d846f6",
   "metadata": {},
   "outputs": [],
   "source": [
    "<table class=\"wikitable sortable sticky-header-multi sort-under jquery-tablesorter\" style=\"text-align:left;\">"
   ]
  },
  {
   "cell_type": "markdown",
   "id": "01901fd3-76f7-4615-90be-2491ca1e3eea",
   "metadata": {},
   "source": [
    "# EXTRACT THE TITLES OF THE COLUMNS "
   ]
  },
  {
   "cell_type": "code",
   "execution_count": 62,
   "id": "1dc6fd73-1c33-4b04-ae90-d2d2acba84f9",
   "metadata": {},
   "outputs": [],
   "source": [
    "table = doc.find_all('table')[0]"
   ]
  },
  {
   "cell_type": "code",
   "execution_count": 100,
   "id": "6f97865d-7608-4563-ab24-1e427f566806",
   "metadata": {},
   "outputs": [],
   "source": [
    "world_titles = table.find_all('th')"
   ]
  },
  {
   "cell_type": "code",
   "execution_count": 101,
   "id": "b844bc4a-ab4d-440e-8805-9e2192de7969",
   "metadata": {},
   "outputs": [
    {
     "data": {
      "text/plain": [
       "[<th>Rank\n",
       " </th>,\n",
       " <th>Name\n",
       " </th>,\n",
       " <th>Industry\n",
       " </th>,\n",
       " <th>Revenue <br/>(USD millions)\n",
       " </th>,\n",
       " <th>Revenue growth\n",
       " </th>,\n",
       " <th>Employees\n",
       " </th>,\n",
       " <th>Headquarters\n",
       " </th>]"
      ]
     },
     "execution_count": 101,
     "metadata": {},
     "output_type": "execute_result"
    }
   ],
   "source": [
    "world_titles"
   ]
  },
  {
   "cell_type": "code",
   "execution_count": 102,
   "id": "398a0c38-a973-4894-a655-394b378b3a0a",
   "metadata": {},
   "outputs": [],
   "source": [
    "world_table_titles = [title.text.strip('\\n') for title in world_titles]"
   ]
  },
  {
   "cell_type": "code",
   "execution_count": 103,
   "id": "b4e33b03-b912-49ef-9990-d2740d1ab135",
   "metadata": {},
   "outputs": [
    {
     "data": {
      "text/plain": [
       "['Rank',\n",
       " 'Name',\n",
       " 'Industry',\n",
       " 'Revenue (USD millions)',\n",
       " 'Revenue growth',\n",
       " 'Employees',\n",
       " 'Headquarters']"
      ]
     },
     "execution_count": 103,
     "metadata": {},
     "output_type": "execute_result"
    }
   ],
   "source": [
    "world_table_titles"
   ]
  },
  {
   "cell_type": "markdown",
   "id": "cd3c2d0c-463b-4208-8f27-bdd3ea032fac",
   "metadata": {},
   "source": [
    "# In case you have duplicates, you can use fromkeys:"
   ]
  },
  {
   "cell_type": "markdown",
   "id": "0f5865cc-187a-4a39-b738-206cf708ba34",
   "metadata": {},
   "source": [
    "Input: You provide a list (input_list) that may contain duplicate elements.\n",
    "\n",
    "Process:\n",
    "\n",
    "dict.fromkeys(input_list) creates a dictionary where the elements of the list become the dictionary keys. In a dictionary, keys must be unique, so any duplicate values in the list are automatically removed.\n",
    "For example, if input_list is [1, 2, 2, 3], dict.fromkeys(input_list) creates {1: None, 2: None, 3: None}. The duplicates (2) are removed.\n",
    "Output: Finally, the list() function converts the dictionary back into a list, and because dictionaries maintain the order of insertion (since Python 3.7), the original order of elements is preserved.\n",
    "\n",
    "So, for an input of [1, 2, 2, 3], the output will be [1, 2, 3]."
   ]
  },
  {
   "cell_type": "code",
   "execution_count": 99,
   "id": "9c8dd3cc-2437-48bf-954b-efa762c7bece",
   "metadata": {},
   "outputs": [
    {
     "data": {
      "text/plain": [
       "['Rank',\n",
       " 'Name',\n",
       " 'Industry',\n",
       " 'Revenue (USD millions)',\n",
       " 'Revenue growth',\n",
       " 'Employees',\n",
       " 'Headquarters',\n",
       " 'Revenue (USD billions)',\n",
       " 'Profits(USD millions)']"
      ]
     },
     "execution_count": 99,
     "metadata": {},
     "output_type": "execute_result"
    }
   ],
   "source": [
    "list(dict.fromkeys(world_table_titles))"
   ]
  },
  {
   "cell_type": "code",
   "execution_count": 104,
   "id": "dcc73b42-0754-4843-a5b8-24b7cf49ae41",
   "metadata": {},
   "outputs": [],
   "source": [
    "import pandas as pd\n",
    "\n",
    "df = pd.DataFrame(columns = world_table_titles)"
   ]
  },
  {
   "cell_type": "code",
   "execution_count": 105,
   "id": "ce6831af-5a0a-4da0-b53f-8cb90c8bd621",
   "metadata": {},
   "outputs": [
    {
     "data": {
      "text/html": [
       "<div>\n",
       "<style scoped>\n",
       "    .dataframe tbody tr th:only-of-type {\n",
       "        vertical-align: middle;\n",
       "    }\n",
       "\n",
       "    .dataframe tbody tr th {\n",
       "        vertical-align: top;\n",
       "    }\n",
       "\n",
       "    .dataframe thead th {\n",
       "        text-align: right;\n",
       "    }\n",
       "</style>\n",
       "<table border=\"1\" class=\"dataframe\">\n",
       "  <thead>\n",
       "    <tr style=\"text-align: right;\">\n",
       "      <th></th>\n",
       "      <th>Rank</th>\n",
       "      <th>Name</th>\n",
       "      <th>Industry</th>\n",
       "      <th>Revenue (USD millions)</th>\n",
       "      <th>Revenue growth</th>\n",
       "      <th>Employees</th>\n",
       "      <th>Headquarters</th>\n",
       "    </tr>\n",
       "  </thead>\n",
       "  <tbody>\n",
       "  </tbody>\n",
       "</table>\n",
       "</div>"
      ],
      "text/plain": [
       "Empty DataFrame\n",
       "Columns: [Rank, Name, Industry, Revenue (USD millions), Revenue growth, Employees, Headquarters]\n",
       "Index: []"
      ]
     },
     "execution_count": 105,
     "metadata": {},
     "output_type": "execute_result"
    }
   ],
   "source": [
    "df"
   ]
  },
  {
   "cell_type": "markdown",
   "id": "8e28f2f4-9159-439e-8537-1f767616d299",
   "metadata": {},
   "source": [
    "# Get the info and put them under each column:"
   ]
  },
  {
   "cell_type": "code",
   "execution_count": 114,
   "id": "885d9006-a9e0-4cc8-97cb-0cbf55e2fd91",
   "metadata": {},
   "outputs": [],
   "source": [
    "column_data = table.find_all('tr')"
   ]
  },
  {
   "cell_type": "code",
   "execution_count": 123,
   "id": "5e09e0cb-2774-4a76-b9af-5e963af1db75",
   "metadata": {},
   "outputs": [],
   "source": [
    "for row in column_data[1:]:\n",
    "    row_data = row.find_all('td')\n",
    "    ind_row_data = [data.text.strip('\\n') for data in row_data]\n",
    "    \n",
    "    length = len(df)\n",
    "\n",
    "    df.loc[length] = ind_row_data\n"
   ]
  },
  {
   "cell_type": "code",
   "execution_count": 124,
   "id": "588e0b85-0405-4c18-86d0-8d05ab4d8e66",
   "metadata": {},
   "outputs": [
    {
     "data": {
      "text/html": [
       "<div>\n",
       "<style scoped>\n",
       "    .dataframe tbody tr th:only-of-type {\n",
       "        vertical-align: middle;\n",
       "    }\n",
       "\n",
       "    .dataframe tbody tr th {\n",
       "        vertical-align: top;\n",
       "    }\n",
       "\n",
       "    .dataframe thead th {\n",
       "        text-align: right;\n",
       "    }\n",
       "</style>\n",
       "<table border=\"1\" class=\"dataframe\">\n",
       "  <thead>\n",
       "    <tr style=\"text-align: right;\">\n",
       "      <th></th>\n",
       "      <th>Rank</th>\n",
       "      <th>Name</th>\n",
       "      <th>Industry</th>\n",
       "      <th>Revenue (USD millions)</th>\n",
       "      <th>Revenue growth</th>\n",
       "      <th>Employees</th>\n",
       "      <th>Headquarters</th>\n",
       "    </tr>\n",
       "  </thead>\n",
       "  <tbody>\n",
       "    <tr>\n",
       "      <th>0</th>\n",
       "      <td>1</td>\n",
       "      <td>Walmart</td>\n",
       "      <td>Retail</td>\n",
       "      <td>648,125</td>\n",
       "      <td>6.0%</td>\n",
       "      <td>2,100,000</td>\n",
       "      <td>Bentonville, Arkansas</td>\n",
       "    </tr>\n",
       "    <tr>\n",
       "      <th>1</th>\n",
       "      <td>2</td>\n",
       "      <td>Amazon</td>\n",
       "      <td>Retail and cloud computing</td>\n",
       "      <td>574,785</td>\n",
       "      <td>11.9%</td>\n",
       "      <td>1,525,000</td>\n",
       "      <td>Seattle, Washington</td>\n",
       "    </tr>\n",
       "    <tr>\n",
       "      <th>2</th>\n",
       "      <td>3</td>\n",
       "      <td>Apple</td>\n",
       "      <td>Electronics industry</td>\n",
       "      <td>383,482</td>\n",
       "      <td>-2.8%</td>\n",
       "      <td>161,000</td>\n",
       "      <td>Cupertino, California</td>\n",
       "    </tr>\n",
       "    <tr>\n",
       "      <th>3</th>\n",
       "      <td>4</td>\n",
       "      <td>UnitedHealth Group</td>\n",
       "      <td>Healthcare</td>\n",
       "      <td>371,622</td>\n",
       "      <td>14.6%</td>\n",
       "      <td>440,000</td>\n",
       "      <td>Minnetonka, Minnesota</td>\n",
       "    </tr>\n",
       "    <tr>\n",
       "      <th>4</th>\n",
       "      <td>5</td>\n",
       "      <td>Berkshire Hathaway</td>\n",
       "      <td>Conglomerate</td>\n",
       "      <td>364,482</td>\n",
       "      <td>20.7%</td>\n",
       "      <td>396,500</td>\n",
       "      <td>Omaha, Nebraska</td>\n",
       "    </tr>\n",
       "    <tr>\n",
       "      <th>...</th>\n",
       "      <td>...</td>\n",
       "      <td>...</td>\n",
       "      <td>...</td>\n",
       "      <td>...</td>\n",
       "      <td>...</td>\n",
       "      <td>...</td>\n",
       "      <td>...</td>\n",
       "    </tr>\n",
       "    <tr>\n",
       "      <th>295</th>\n",
       "      <td>96</td>\n",
       "      <td>TIAA</td>\n",
       "      <td>Financials</td>\n",
       "      <td>45,735</td>\n",
       "      <td>11.8%</td>\n",
       "      <td>16,023</td>\n",
       "      <td>New York City, New York</td>\n",
       "    </tr>\n",
       "    <tr>\n",
       "      <th>296</th>\n",
       "      <td>97</td>\n",
       "      <td>CHS</td>\n",
       "      <td>Agriculture cooperative</td>\n",
       "      <td>45,590</td>\n",
       "      <td>-4.6%</td>\n",
       "      <td>10,609</td>\n",
       "      <td>Inver Grove Heights, Minnesota</td>\n",
       "    </tr>\n",
       "    <tr>\n",
       "      <th>297</th>\n",
       "      <td>98</td>\n",
       "      <td>Bristol-Myers Squibb</td>\n",
       "      <td>Pharmaceutical industry</td>\n",
       "      <td>45,006</td>\n",
       "      <td>-2.5%</td>\n",
       "      <td>34,100</td>\n",
       "      <td>New York City, New York</td>\n",
       "    </tr>\n",
       "    <tr>\n",
       "      <th>298</th>\n",
       "      <td>99</td>\n",
       "      <td>Dow Chemical Company</td>\n",
       "      <td>Chemical industry</td>\n",
       "      <td>44,622</td>\n",
       "      <td>-21.6%</td>\n",
       "      <td>35,900</td>\n",
       "      <td>Midland, Michigan</td>\n",
       "    </tr>\n",
       "    <tr>\n",
       "      <th>299</th>\n",
       "      <td>100</td>\n",
       "      <td>Best Buy</td>\n",
       "      <td>Retail</td>\n",
       "      <td>43,452</td>\n",
       "      <td>-6.1%</td>\n",
       "      <td>85,000</td>\n",
       "      <td>Richfield, Minnesota</td>\n",
       "    </tr>\n",
       "  </tbody>\n",
       "</table>\n",
       "<p>300 rows × 7 columns</p>\n",
       "</div>"
      ],
      "text/plain": [
       "    Rank                  Name                    Industry  \\\n",
       "0      1               Walmart                      Retail   \n",
       "1      2                Amazon  Retail and cloud computing   \n",
       "2      3                 Apple        Electronics industry   \n",
       "3      4    UnitedHealth Group                  Healthcare   \n",
       "4      5    Berkshire Hathaway                Conglomerate   \n",
       "..   ...                   ...                         ...   \n",
       "295   96                  TIAA                  Financials   \n",
       "296   97                   CHS     Agriculture cooperative   \n",
       "297   98  Bristol-Myers Squibb     Pharmaceutical industry   \n",
       "298   99  Dow Chemical Company           Chemical industry   \n",
       "299  100              Best Buy                      Retail   \n",
       "\n",
       "    Revenue (USD millions) Revenue growth  Employees  \\\n",
       "0                  648,125           6.0%  2,100,000   \n",
       "1                  574,785          11.9%  1,525,000   \n",
       "2                  383,482          -2.8%    161,000   \n",
       "3                  371,622          14.6%    440,000   \n",
       "4                  364,482          20.7%    396,500   \n",
       "..                     ...            ...        ...   \n",
       "295                 45,735          11.8%     16,023   \n",
       "296                 45,590          -4.6%     10,609   \n",
       "297                 45,006          -2.5%     34,100   \n",
       "298                 44,622         -21.6%     35,900   \n",
       "299                 43,452          -6.1%     85,000   \n",
       "\n",
       "                       Headquarters  \n",
       "0             Bentonville, Arkansas  \n",
       "1               Seattle, Washington  \n",
       "2             Cupertino, California  \n",
       "3             Minnetonka, Minnesota  \n",
       "4                   Omaha, Nebraska  \n",
       "..                              ...  \n",
       "295         New York City, New York  \n",
       "296  Inver Grove Heights, Minnesota  \n",
       "297         New York City, New York  \n",
       "298               Midland, Michigan  \n",
       "299            Richfield, Minnesota  \n",
       "\n",
       "[300 rows x 7 columns]"
      ]
     },
     "execution_count": 124,
     "metadata": {},
     "output_type": "execute_result"
    }
   ],
   "source": [
    "df"
   ]
  }
 ],
 "metadata": {
  "kernelspec": {
   "display_name": "Python 3 (ipykernel)",
   "language": "python",
   "name": "python3"
  },
  "language_info": {
   "codemirror_mode": {
    "name": "ipython",
    "version": 3
   },
   "file_extension": ".py",
   "mimetype": "text/x-python",
   "name": "python",
   "nbconvert_exporter": "python",
   "pygments_lexer": "ipython3",
   "version": "3.9.12"
  }
 },
 "nbformat": 4,
 "nbformat_minor": 5
}
