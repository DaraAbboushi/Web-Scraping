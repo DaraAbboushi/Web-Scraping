{
 "cells": [
  {
   "cell_type": "code",
   "execution_count": 1,
   "id": "0c6069d6-2ba9-4391-9cd5-a04b67817f79",
   "metadata": {},
   "outputs": [],
   "source": [
    "from bs4 import BeautifulSoup    "
   ]
  },
  {
   "cell_type": "markdown",
   "id": "569e5ec4-1670-4168-9fd2-7fb9273bf068",
   "metadata": {},
   "source": [
    "since we have an html file in our hands we have to first open it"
   ]
  },
  {
   "cell_type": "code",
   "execution_count": 2,
   "id": "ebcd05d8-2336-4012-a0a2-3f30898c90d4",
   "metadata": {},
   "outputs": [],
   "source": [
    "url = 'website.html'"
   ]
  },
  {
   "cell_type": "code",
   "execution_count": 3,
   "id": "5bbd07dc-b897-43e0-8fb9-1ca2639aac73",
   "metadata": {},
   "outputs": [
    {
     "name": "stdout",
     "output_type": "stream",
     "text": [
      "Angela's Personal Site\n"
     ]
    }
   ],
   "source": [
    "with open(url, 'r') as web_file:\n",
    "    contents = web_file.read()\n",
    "soup = BeautifulSoup(contents, 'html.parser')\n",
    "print(soup.title.string)"
   ]
  },
  {
   "cell_type": "code",
   "execution_count": 4,
   "id": "b13339e5-824b-4f00-9871-d81b63725707",
   "metadata": {},
   "outputs": [
    {
     "name": "stdout",
     "output_type": "stream",
     "text": [
      "<p><em>Founder of <strong><a href=\"https://www.appbrewery.co/\">The App Brewery</a></strong>.</em></p>\n"
     ]
    }
   ],
   "source": [
    "print(soup.em.parent)"
   ]
  },
  {
   "cell_type": "code",
   "execution_count": 5,
   "id": "a2eb2e2e-410a-43cf-b8b8-5e8d53f73084",
   "metadata": {},
   "outputs": [],
   "source": [
    "tags = soup.find_all('a')"
   ]
  },
  {
   "cell_type": "code",
   "execution_count": 6,
   "id": "cde27c2d-0cfb-4b87-9348-74572b430772",
   "metadata": {},
   "outputs": [
    {
     "name": "stdout",
     "output_type": "stream",
     "text": [
      "https://www.appbrewery.co/\n",
      "https://angelabauer.github.io/cv/hobbies.html\n",
      "https://angelabauer.github.io/cv/contact-me.html\n"
     ]
    }
   ],
   "source": [
    "for tag in tags:\n",
    "    # print(tag.getText())\n",
    "    print(tag.get('href'))\n",
    "    "
   ]
  },
  {
   "cell_type": "code",
   "execution_count": 7,
   "id": "a74a4db9-3ba4-4065-9f65-77ed0be3c9ec",
   "metadata": {},
   "outputs": [
    {
     "name": "stdout",
     "output_type": "stream",
     "text": [
      "<h1 id=\"name\">Angela Yu</h1>\n"
     ]
    }
   ],
   "source": [
    "headings = soup.find(name='h1', id='name')\n",
    "\n",
    "print(headings)"
   ]
  },
  {
   "cell_type": "code",
   "execution_count": 8,
   "id": "b50fd204-73e3-46e3-b4ef-6951351ebc3a",
   "metadata": {},
   "outputs": [
    {
     "name": "stdout",
     "output_type": "stream",
     "text": [
      "<h3 class=\"heading\">Books and Teaching</h3>\n"
     ]
    }
   ],
   "source": [
    "headings = soup.find(name='h3', class_='heading')\n",
    "\n",
    "print(headings)"
   ]
  },
  {
   "cell_type": "markdown",
   "id": "b5e73e8b-904e-4375-97d4-5cc837400d0c",
   "metadata": {},
   "source": [
    "# CSS Selectors:"
   ]
  },
  {
   "cell_type": "markdown",
   "id": "fc5f5b80-0041-4f78-854d-ab192345ca4a",
   "metadata": {},
   "source": [
    "Use css selectors to narrow down the tags search for specfic links inside paragraphs tags:"
   ]
  },
  {
   "cell_type": "code",
   "execution_count": 9,
   "id": "2f7ec62f-3f9f-4ed0-af87-980ea6b6bd4d",
   "metadata": {},
   "outputs": [
    {
     "name": "stdout",
     "output_type": "stream",
     "text": [
      "The App Brewery\n"
     ]
    }
   ],
   "source": [
    "company_url = soup.select_one(selector='p a')\n",
    "print(company_url.text)"
   ]
  },
  {
   "cell_type": "code",
   "execution_count": 10,
   "id": "289a50c3-a83f-40ab-8bda-975fd04cbab1",
   "metadata": {},
   "outputs": [
    {
     "name": "stdout",
     "output_type": "stream",
     "text": [
      "<h1 id=\"name\">Angela Yu</h1>\n"
     ]
    }
   ],
   "source": [
    "company_id = soup.select_one(selector='#name')\n",
    "print(company_id)"
   ]
  },
  {
   "cell_type": "code",
   "execution_count": 11,
   "id": "0e1eaf2a-e30d-443c-a92d-d5b52a150f10",
   "metadata": {},
   "outputs": [
    {
     "name": "stdout",
     "output_type": "stream",
     "text": [
      "[<h3 class=\"heading\">Books and Teaching</h3>, <h3 class=\"heading\">Other Pages</h3>]\n"
     ]
    }
   ],
   "source": [
    "heading = soup.select(selector='.heading') #nokta 3shan el class\n",
    "print(heading)"
   ]
  },
  {
   "cell_type": "markdown",
   "id": "fc6b64e8-e0bb-480a-bbf8-3c94a67fdd49",
   "metadata": {},
   "source": [
    "# Scraping a Live Website:"
   ]
  },
  {
   "cell_type": "code",
   "execution_count": 12,
   "id": "bf027f31-02d8-4bff-8472-21836c9aedc8",
   "metadata": {},
   "outputs": [],
   "source": [
    "from bs4 import BeautifulSoup\n",
    "import requests"
   ]
  },
  {
   "cell_type": "code",
   "execution_count": 13,
   "id": "12a35e05-b48c-4e4b-bcec-8a24f4297a7c",
   "metadata": {},
   "outputs": [],
   "source": [
    "url = 'https://appbrewery.github.io/news.ycombinator.com/'\n",
    "\n",
    "news_app = requests.get(url).text\n",
    "\n",
    "soup = BeautifulSoup(news_app, 'html.parser')\n",
    "\n",
    "# print(doc.prettify())"
   ]
  },
  {
   "cell_type": "markdown",
   "id": "0187788b-b819-4b19-b696-5c55f502df0d",
   "metadata": {},
   "source": [
    "Get hold of title and the links of the posts based on its heighest points:"
   ]
  },
  {
   "cell_type": "code",
   "execution_count": 14,
   "id": "42b3ecf8-32ae-4bc7-bce7-7c21ba8814e0",
   "metadata": {},
   "outputs": [],
   "source": [
    "articles = soup.find_all('a', class_='storylink')\n",
    "article_tags = []\n",
    "article_links = []\n",
    "article_upvotes = []\n",
    "for article in articles:\n",
    "    article_tag = article.text\n",
    "    article_link = article.get('href')\n",
    "    \n",
    "    article_tags.append(article_tag)\n",
    "    article_links.append(article_link)\n",
    "    \n",
    "    \n",
    "    \n",
    "article_upvote = soup.find_all('span', class_='score')\n",
    "\n",
    "\n",
    "for upvote in article_upvote:\n",
    "    numbers = upvote.text.replace('points', '')\n",
    "    article_upvotes.append(int(numbers))"
   ]
  },
  {
   "cell_type": "code",
   "execution_count": 15,
   "id": "942e069c-9035-478f-ac6c-a7637c2fd4e9",
   "metadata": {},
   "outputs": [
    {
     "data": {
      "text/plain": [
       "[38,\n",
       " 205,\n",
       " 165,\n",
       " 19,\n",
       " 57,\n",
       " 40,\n",
       " 58,\n",
       " 138,\n",
       " 29,\n",
       " 189,\n",
       " 46,\n",
       " 108,\n",
       " 103,\n",
       " 201,\n",
       " 188,\n",
       " 110,\n",
       " 46,\n",
       " 25,\n",
       " 752,\n",
       " 3,\n",
       " 242,\n",
       " 161,\n",
       " 230,\n",
       " 1051,\n",
       " 30,\n",
       " 156,\n",
       " 585,\n",
       " 1312,\n",
       " 24,\n",
       " 60]"
      ]
     },
     "execution_count": 15,
     "metadata": {},
     "output_type": "execute_result"
    }
   ],
   "source": [
    "article_tags \n",
    "article_links \n",
    "article_upvotes"
   ]
  },
  {
   "cell_type": "markdown",
   "id": "8d4eed3f-04b9-4446-aae2-15342e67d588",
   "metadata": {},
   "source": [
    "# Sorting:"
   ]
  },
  {
   "cell_type": "code",
   "execution_count": 16,
   "id": "928d52d6-64ce-48c1-852f-3603ad99a8e0",
   "metadata": {},
   "outputs": [
    {
     "data": {
      "text/plain": [
       "1312"
      ]
     },
     "execution_count": 16,
     "metadata": {},
     "output_type": "execute_result"
    }
   ],
   "source": [
    "largest_numbers = max(article_upvotes)\n",
    "largest_numbers"
   ]
  },
  {
   "cell_type": "code",
   "execution_count": 17,
   "id": "c98deff4-44fb-40cc-9aa2-194cfcc480fd",
   "metadata": {},
   "outputs": [
    {
     "data": {
      "text/plain": [
       "27"
      ]
     },
     "execution_count": 17,
     "metadata": {},
     "output_type": "execute_result"
    }
   ],
   "source": [
    "article_upvotes.index(1312)"
   ]
  },
  {
   "cell_type": "code",
   "execution_count": 18,
   "id": "2e14cdc3-f5b3-4074-91a6-1b8d0cfef801",
   "metadata": {},
   "outputs": [
    {
     "data": {
      "text/plain": [
       "'https://blog.mozilla.org/en/mozilla/changing-world-changing-mozilla/'"
      ]
     },
     "execution_count": 18,
     "metadata": {},
     "output_type": "execute_result"
    }
   ],
   "source": [
    "article_links[27]"
   ]
  },
  {
   "cell_type": "code",
   "execution_count": 19,
   "id": "e9af47da-1b14-4a91-92d0-0cdf5d44e731",
   "metadata": {},
   "outputs": [
    {
     "data": {
      "text/plain": [
       "'Mozilla lays off 250 employees while it refocuses on commercial products'"
      ]
     },
     "execution_count": 19,
     "metadata": {},
     "output_type": "execute_result"
    }
   ],
   "source": [
    "article_tags[27]"
   ]
  }
 ],
 "metadata": {
  "kernelspec": {
   "display_name": "Python 3 (ipykernel)",
   "language": "python",
   "name": "python3"
  },
  "language_info": {
   "codemirror_mode": {
    "name": "ipython",
    "version": 3
   },
   "file_extension": ".py",
   "mimetype": "text/x-python",
   "name": "python",
   "nbconvert_exporter": "python",
   "pygments_lexer": "ipython3",
   "version": "3.9.12"
  }
 },
 "nbformat": 4,
 "nbformat_minor": 5
}
