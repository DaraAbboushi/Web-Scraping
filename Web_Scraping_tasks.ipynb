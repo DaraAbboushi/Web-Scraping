{
 "cells": [
  {
   "cell_type": "markdown",
   "id": "373aea80-b6d1-450d-a603-d82cb35b9af9",
   "metadata": {},
   "source": [
    "# Web scarping with Keith Revision:\n"
   ]
  },
  {
   "cell_type": "code",
   "execution_count": 1,
   "id": "ebd125f7-29e7-4f2b-82ec-b89761e5884b",
   "metadata": {},
   "outputs": [],
   "source": [
    "from bs4 import BeautifulSoup\n",
    "import requests\n",
    "import re"
   ]
  },
  {
   "cell_type": "code",
   "execution_count": 226,
   "id": "42f514ca-1dc0-4cb7-b588-85291d489e72",
   "metadata": {},
   "outputs": [],
   "source": [
    "url = 'https://keithgalli.github.io/web-scraping/'\n",
    "source =  requests.get(url+'webpage.html')\n",
    "\n",
    "webpage = BeautifulSoup(source.text, 'html.parser')\n",
    "\n"
   ]
  },
  {
   "cell_type": "code",
   "execution_count": 88,
   "id": "92db45ac-3812-4007-ae7f-886d6794fe7c",
   "metadata": {},
   "outputs": [],
   "source": [
    "scoial = webpage.find_all('ul', class_= 'socials')"
   ]
  },
  {
   "cell_type": "code",
   "execution_count": 89,
   "id": "9b208650-9868-4030-8a18-8b3b995b5162",
   "metadata": {},
   "outputs": [
    {
     "data": {
      "text/plain": [
       "[<ul class=\"socials\">\n",
       " <li class=\"social instagram\"><b>Instagram: </b><a href=\"https://www.instagram.com/keithgalli/\">https://www.instagram.com/keithgalli/</a></li>\n",
       " <li class=\"social twitter\"><b>Twitter: </b><a href=\"https://twitter.com/keithgalli\">https://twitter.com/keithgalli</a></li>\n",
       " <li class=\"social linkedin\"><b>LinkedIn: </b><a href=\"https://www.linkedin.com/in/keithgalli/\">https://www.linkedin.com/in/keithgalli/</a></li>\n",
       " <li class=\"social tiktok\"><b>TikTok: </b><a href=\"https://www.tiktok.com/@keithgalli\">https://www.tiktok.com/@keithgalli</a></li>\n",
       " </ul>]"
      ]
     },
     "execution_count": 89,
     "metadata": {},
     "output_type": "execute_result"
    }
   ],
   "source": [
    "scoial"
   ]
  },
  {
   "cell_type": "code",
   "execution_count": 102,
   "id": "42847f06-8438-4f73-b4ad-5ed4b252e00b",
   "metadata": {},
   "outputs": [
    {
     "name": "stdout",
     "output_type": "stream",
     "text": [
      "\n",
      "Instagram: https://www.instagram.com/keithgalli/\n",
      "Twitter: https://twitter.com/keithgalli\n",
      "LinkedIn: https://www.linkedin.com/in/keithgalli/\n",
      "TikTok: https://www.tiktok.com/@keithgalli\n",
      "\n"
     ]
    }
   ],
   "source": [
    "for i in scoial:\n",
    "    print(i.text)\n"
   ]
  },
  {
   "cell_type": "code",
   "execution_count": 71,
   "id": "2429641b-6962-49e1-8d5a-b8d526ace113",
   "metadata": {},
   "outputs": [
    {
     "data": {
      "text/plain": [
       "<b>Instagram: </b>"
      ]
     },
     "execution_count": 71,
     "metadata": {},
     "output_type": "execute_result"
    }
   ],
   "source": [
    "links"
   ]
  },
  {
   "cell_type": "markdown",
   "id": "7dcde46a-fa6c-407e-97dd-8513607b3415",
   "metadata": {},
   "source": [
    "# Another solution:\n"
   ]
  },
  {
   "cell_type": "code",
   "execution_count": 104,
   "id": "ae6d32fe-bb47-45dd-af83-7e74786412d3",
   "metadata": {},
   "outputs": [
    {
     "data": {
      "text/plain": [
       "['https://www.instagram.com/keithgalli/',\n",
       " 'https://twitter.com/keithgalli',\n",
       " 'https://www.linkedin.com/in/keithgalli/',\n",
       " 'https://www.tiktok.com/@keithgalli']"
      ]
     },
     "execution_count": 104,
     "metadata": {},
     "output_type": "execute_result"
    }
   ],
   "source": [
    "links = webpage.select('ul.socials a')\n",
    "\n",
    "actual_links = [link.get('href') for link in links]\n",
    "actual_links"
   ]
  },
  {
   "cell_type": "markdown",
   "id": "4fc5c76c-a721-4490-b6a2-c79406a3e630",
   "metadata": {},
   "source": [
    "# Scrapingg the table "
   ]
  },
  {
   "cell_type": "code",
   "execution_count": 133,
   "id": "dc293674-09e1-461a-8bdb-8702f489d5e7",
   "metadata": {},
   "outputs": [],
   "source": [
    "table = webpage.find_all('th')"
   ]
  },
  {
   "cell_type": "code",
   "execution_count": 134,
   "id": "39be1c60-225c-488d-b4e3-7c59560dc674",
   "metadata": {},
   "outputs": [
    {
     "data": {
      "text/plain": [
       "['S',\n",
       " 'Team',\n",
       " 'League',\n",
       " 'GP',\n",
       " 'G',\n",
       " 'A',\n",
       " 'TP',\n",
       " 'PIM',\n",
       " '+/-',\n",
       " '\\xa0',\n",
       " 'POST',\n",
       " 'GP',\n",
       " 'G',\n",
       " 'A',\n",
       " 'TP',\n",
       " 'PIM',\n",
       " '+/-']"
      ]
     },
     "execution_count": 134,
     "metadata": {},
     "output_type": "execute_result"
    }
   ],
   "source": [
    "columns = [i.text for i in table]\n",
    "\n",
    "columns"
   ]
  },
  {
   "cell_type": "code",
   "execution_count": 135,
   "id": "7d032e22-656e-4763-9b46-8df4068ea880",
   "metadata": {},
   "outputs": [],
   "source": [
    "tables = webpage.find_all('td')"
   ]
  },
  {
   "cell_type": "code",
   "execution_count": 137,
   "id": "937c7b6f-428f-47b0-86e1-3b396ba7c7a6",
   "metadata": {},
   "outputs": [],
   "source": [
    "rows = [i.text.strip('\\n') for i in tables]"
   ]
  },
  {
   "cell_type": "code",
   "execution_count": 149,
   "id": "06d456d8-eeb0-4df1-9696-06345d05e960",
   "metadata": {},
   "outputs": [],
   "source": [
    "import pandas as pd\n",
    "df = pd.DataFrame(columns = columns)\n",
    "\n",
    "l = []\n",
    "\n",
    "for tr in webpage.find('tbody').find_all('tr'):\n",
    "    td = tr.find_all('td')\n",
    "    #without specfiying in the strip method\n",
    "    row = [i.text.strip() for i in td]\n",
    "    l.append(row)\n",
    "    \n",
    "df = pd.DataFrame(l, columns = columns)\n",
    "    \n",
    "    "
   ]
  },
  {
   "cell_type": "code",
   "execution_count": 150,
   "id": "4887db9b-b88a-431a-9e0f-d3c1d160fc15",
   "metadata": {},
   "outputs": [
    {
     "data": {
      "text/html": [
       "<div>\n",
       "<style scoped>\n",
       "    .dataframe tbody tr th:only-of-type {\n",
       "        vertical-align: middle;\n",
       "    }\n",
       "\n",
       "    .dataframe tbody tr th {\n",
       "        vertical-align: top;\n",
       "    }\n",
       "\n",
       "    .dataframe thead th {\n",
       "        text-align: right;\n",
       "    }\n",
       "</style>\n",
       "<table border=\"1\" class=\"dataframe\">\n",
       "  <thead>\n",
       "    <tr style=\"text-align: right;\">\n",
       "      <th></th>\n",
       "      <th>S</th>\n",
       "      <th>Team</th>\n",
       "      <th>League</th>\n",
       "      <th>GP</th>\n",
       "      <th>G</th>\n",
       "      <th>A</th>\n",
       "      <th>TP</th>\n",
       "      <th>PIM</th>\n",
       "      <th>+/-</th>\n",
       "      <th></th>\n",
       "      <th>POST</th>\n",
       "      <th>GP</th>\n",
       "      <th>G</th>\n",
       "      <th>A</th>\n",
       "      <th>TP</th>\n",
       "      <th>PIM</th>\n",
       "      <th>+/-</th>\n",
       "    </tr>\n",
       "  </thead>\n",
       "  <tbody>\n",
       "    <tr>\n",
       "      <th>0</th>\n",
       "      <td>2014-15</td>\n",
       "      <td>MIT (Mass. Inst. of Tech.)</td>\n",
       "      <td>ACHA II</td>\n",
       "      <td>17</td>\n",
       "      <td>3</td>\n",
       "      <td>9</td>\n",
       "      <td>12</td>\n",
       "      <td>20</td>\n",
       "      <td></td>\n",
       "      <td>|</td>\n",
       "      <td></td>\n",
       "      <td></td>\n",
       "      <td></td>\n",
       "      <td></td>\n",
       "      <td></td>\n",
       "      <td></td>\n",
       "      <td></td>\n",
       "    </tr>\n",
       "    <tr>\n",
       "      <th>1</th>\n",
       "      <td>2015-16</td>\n",
       "      <td>MIT (Mass. Inst. of Tech.)</td>\n",
       "      <td>ACHA II</td>\n",
       "      <td>9</td>\n",
       "      <td>1</td>\n",
       "      <td>1</td>\n",
       "      <td>2</td>\n",
       "      <td>2</td>\n",
       "      <td></td>\n",
       "      <td>|</td>\n",
       "      <td></td>\n",
       "      <td></td>\n",
       "      <td></td>\n",
       "      <td></td>\n",
       "      <td></td>\n",
       "      <td></td>\n",
       "      <td></td>\n",
       "    </tr>\n",
       "    <tr>\n",
       "      <th>2</th>\n",
       "      <td>2016-17</td>\n",
       "      <td>MIT (Mass. Inst. of Tech.)</td>\n",
       "      <td>ACHA II</td>\n",
       "      <td>12</td>\n",
       "      <td>5</td>\n",
       "      <td>5</td>\n",
       "      <td>10</td>\n",
       "      <td>8</td>\n",
       "      <td>0</td>\n",
       "      <td>|</td>\n",
       "      <td></td>\n",
       "      <td></td>\n",
       "      <td></td>\n",
       "      <td></td>\n",
       "      <td></td>\n",
       "      <td></td>\n",
       "      <td></td>\n",
       "    </tr>\n",
       "    <tr>\n",
       "      <th>3</th>\n",
       "      <td>2017-18</td>\n",
       "      <td>Did not play</td>\n",
       "      <td></td>\n",
       "      <td></td>\n",
       "      <td></td>\n",
       "      <td></td>\n",
       "      <td></td>\n",
       "      <td></td>\n",
       "      <td></td>\n",
       "      <td>|</td>\n",
       "      <td></td>\n",
       "      <td></td>\n",
       "      <td></td>\n",
       "      <td></td>\n",
       "      <td></td>\n",
       "      <td></td>\n",
       "      <td></td>\n",
       "    </tr>\n",
       "    <tr>\n",
       "      <th>4</th>\n",
       "      <td>2018-19</td>\n",
       "      <td>MIT (Mass. Inst. of Tech.)</td>\n",
       "      <td>ACHA III</td>\n",
       "      <td>8</td>\n",
       "      <td>5</td>\n",
       "      <td>10</td>\n",
       "      <td>15</td>\n",
       "      <td>8</td>\n",
       "      <td></td>\n",
       "      <td>|</td>\n",
       "      <td></td>\n",
       "      <td></td>\n",
       "      <td></td>\n",
       "      <td></td>\n",
       "      <td></td>\n",
       "      <td></td>\n",
       "      <td></td>\n",
       "    </tr>\n",
       "  </tbody>\n",
       "</table>\n",
       "</div>"
      ],
      "text/plain": [
       "         S                        Team    League  GP  G   A  TP PIM +/-     \\\n",
       "0  2014-15  MIT (Mass. Inst. of Tech.)   ACHA II  17  3   9  12  20      |   \n",
       "1  2015-16  MIT (Mass. Inst. of Tech.)   ACHA II   9  1   1   2   2      |   \n",
       "2  2016-17  MIT (Mass. Inst. of Tech.)   ACHA II  12  5   5  10   8   0  |   \n",
       "3  2017-18                Did not play                                   |   \n",
       "4  2018-19  MIT (Mass. Inst. of Tech.)  ACHA III   8  5  10  15   8      |   \n",
       "\n",
       "  POST GP G A TP PIM +/-  \n",
       "0                         \n",
       "1                         \n",
       "2                         \n",
       "3                         \n",
       "4                         "
      ]
     },
     "execution_count": 150,
     "metadata": {},
     "output_type": "execute_result"
    }
   ],
   "source": [
    "df"
   ]
  },
  {
   "cell_type": "code",
   "execution_count": 189,
   "id": "27b0da27-24ee-4242-8dd3-542181cc8db4",
   "metadata": {},
   "outputs": [],
   "source": [
    "fun_facts = webpage.select('ul.fun-facts li')"
   ]
  },
  {
   "cell_type": "code",
   "execution_count": 199,
   "id": "8443577c-ee67-4362-ae1e-43b5d24a3f1a",
   "metadata": {},
   "outputs": [],
   "source": [
    "with_is = [fact.find(string=re.compile('is')) for fact in fun_facts]"
   ]
  },
  {
   "cell_type": "code",
   "execution_count": 200,
   "id": "54d0653d-2eb3-4fab-974c-6003f9f88567",
   "metadata": {},
   "outputs": [],
   "source": [
    "with_is =  [fact.find_parent().get_text() for fact in with_is if fact]"
   ]
  },
  {
   "cell_type": "code",
   "execution_count": 201,
   "id": "800cd3f3-688d-4618-ab68-34ebe6406651",
   "metadata": {},
   "outputs": [
    {
     "data": {
      "text/plain": [
       "['Middle name is Ronald',\n",
       " 'Dunkin Donuts coffee is better than Starbucks',\n",
       " \"A favorite book series of mine is Ender's Game\",\n",
       " 'Current video game of choice is Rocket League',\n",
       " \"The band that I've seen the most times live is the Zac Brown Band\"]"
      ]
     },
     "execution_count": 201,
     "metadata": {},
     "output_type": "execute_result"
    }
   ],
   "source": [
    "with_is"
   ]
  },
  {
   "cell_type": "markdown",
   "id": "f6dc7806-c502-4680-981e-3fe1e38e9d09",
   "metadata": {},
   "source": [
    "# Web Scraping an image"
   ]
  },
  {
   "cell_type": "code",
   "execution_count": 223,
   "id": "55228fb5-b84e-49ac-a636-040c08718a27",
   "metadata": {},
   "outputs": [],
   "source": [
    "images= webpage.select('div img')\n"
   ]
  },
  {
   "cell_type": "code",
   "execution_count": 224,
   "id": "300a4d00-608b-40e6-a822-633485b01ec1",
   "metadata": {},
   "outputs": [],
   "source": [
    "image_url = images[0]['src']"
   ]
  },
  {
   "cell_type": "code",
   "execution_count": 227,
   "id": "cff9012b-580a-402e-82c6-f7fcbc1518f0",
   "metadata": {},
   "outputs": [],
   "source": [
    "full_url = url+image_url"
   ]
  },
  {
   "cell_type": "code",
   "execution_count": 230,
   "id": "563b0cd7-13df-4758-824a-e9185762c252",
   "metadata": {},
   "outputs": [],
   "source": [
    "img_data = requests.get(full_url).content"
   ]
  },
  {
   "cell_type": "code",
   "execution_count": 231,
   "id": "b109a1f2-73f6-4e22-a71e-b1487125410a",
   "metadata": {},
   "outputs": [],
   "source": [
    "with open('lake_como.jpg', 'wb') as img:\n",
    "    img.write(img_data)"
   ]
  }
 ],
 "metadata": {
  "kernelspec": {
   "display_name": "Python 3 (ipykernel)",
   "language": "python",
   "name": "python3"
  },
  "language_info": {
   "codemirror_mode": {
    "name": "ipython",
    "version": 3
   },
   "file_extension": ".py",
   "mimetype": "text/x-python",
   "name": "python",
   "nbconvert_exporter": "python",
   "pygments_lexer": "ipython3",
   "version": "3.9.12"
  }
 },
 "nbformat": 4,
 "nbformat_minor": 5
}
